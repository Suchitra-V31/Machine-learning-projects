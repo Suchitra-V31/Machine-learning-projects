{
  "nbformat": 4,
  "nbformat_minor": 0,
  "metadata": {
    "colab": {
      "name": "Microsoft Stock Price Prediction.ipynb",
      "provenance": [],
      "authorship_tag": "ABX9TyPmsc9Dd94cMdpPkwiWp0io",
      "include_colab_link": true
    },
    "kernelspec": {
      "name": "python3",
      "display_name": "Python 3"
    },
    "language_info": {
      "name": "python"
    }
  },
  "cells": [
    {
      "cell_type": "markdown",
      "metadata": {
        "id": "view-in-github",
        "colab_type": "text"
      },
      "source": [
        "<a href=\"https://colab.research.google.com/github/Suchitra-V31/Machine-learning-projects/blob/main/Microsoft_Stock_Price_Prediction.ipynb\" target=\"_parent\"><img src=\"https://colab.research.google.com/assets/colab-badge.svg\" alt=\"Open In Colab\"/></a>"
      ]
    },
    {
      "cell_type": "markdown",
      "metadata": {
        "id": "sFeKgIOYl_ZD"
      },
      "source": [
        "**Microsoft Stock Price Prediction**"
      ]
    },
    {
      "cell_type": "markdown",
      "metadata": {
        "id": "G6RPfxFlmFqL"
      },
      "source": [
        "In this we are going to predict the stock prices of Microsoft using regression techniques."
      ]
    },
    {
      "cell_type": "code",
      "metadata": {
        "id": "-XlE5EYEZF57"
      },
      "source": [
        "#import the necessary libraries\n",
        "import pandas as pd\n",
        "import numpy as np\n",
        "import matplotlib.pyplot as plt\n",
        "import seaborn as sns"
      ],
      "execution_count": 1,
      "outputs": []
    },
    {
      "cell_type": "code",
      "metadata": {
        "id": "hIZJnqTideJZ"
      },
      "source": [
        "data=pd.read_csv('/content/MSFT.csv')"
      ],
      "execution_count": 2,
      "outputs": []
    },
    {
      "cell_type": "code",
      "metadata": {
        "colab": {
          "base_uri": "https://localhost:8080/",
          "height": 204
        },
        "id": "MHHT8WawdqIY",
        "outputId": "b1ff264b-d982-44b9-d491-dd02c17a0613"
      },
      "source": [
        "data.head()"
      ],
      "execution_count": 3,
      "outputs": [
        {
          "output_type": "execute_result",
          "data": {
            "text/html": [
              "<div>\n",
              "<style scoped>\n",
              "    .dataframe tbody tr th:only-of-type {\n",
              "        vertical-align: middle;\n",
              "    }\n",
              "\n",
              "    .dataframe tbody tr th {\n",
              "        vertical-align: top;\n",
              "    }\n",
              "\n",
              "    .dataframe thead th {\n",
              "        text-align: right;\n",
              "    }\n",
              "</style>\n",
              "<table border=\"1\" class=\"dataframe\">\n",
              "  <thead>\n",
              "    <tr style=\"text-align: right;\">\n",
              "      <th></th>\n",
              "      <th>Date</th>\n",
              "      <th>Open</th>\n",
              "      <th>High</th>\n",
              "      <th>Low</th>\n",
              "      <th>Close</th>\n",
              "      <th>Adj Close</th>\n",
              "      <th>Volume</th>\n",
              "    </tr>\n",
              "  </thead>\n",
              "  <tbody>\n",
              "    <tr>\n",
              "      <th>0</th>\n",
              "      <td>8/28/2020</td>\n",
              "      <td>228.179993</td>\n",
              "      <td>230.639999</td>\n",
              "      <td>226.580002</td>\n",
              "      <td>228.910004</td>\n",
              "      <td>226.828613</td>\n",
              "      <td>26292900</td>\n",
              "    </tr>\n",
              "    <tr>\n",
              "      <th>1</th>\n",
              "      <td>8/31/2020</td>\n",
              "      <td>227.000000</td>\n",
              "      <td>228.699997</td>\n",
              "      <td>224.309998</td>\n",
              "      <td>225.529999</td>\n",
              "      <td>223.479355</td>\n",
              "      <td>28774200</td>\n",
              "    </tr>\n",
              "    <tr>\n",
              "      <th>2</th>\n",
              "      <td>9/1/2020</td>\n",
              "      <td>225.509995</td>\n",
              "      <td>227.449997</td>\n",
              "      <td>224.429993</td>\n",
              "      <td>227.270004</td>\n",
              "      <td>225.203552</td>\n",
              "      <td>25725500</td>\n",
              "    </tr>\n",
              "    <tr>\n",
              "      <th>3</th>\n",
              "      <td>9/2/2020</td>\n",
              "      <td>227.970001</td>\n",
              "      <td>232.860001</td>\n",
              "      <td>227.350006</td>\n",
              "      <td>231.649994</td>\n",
              "      <td>229.543701</td>\n",
              "      <td>34080800</td>\n",
              "    </tr>\n",
              "    <tr>\n",
              "      <th>4</th>\n",
              "      <td>9/3/2020</td>\n",
              "      <td>229.270004</td>\n",
              "      <td>229.309998</td>\n",
              "      <td>214.960007</td>\n",
              "      <td>217.300003</td>\n",
              "      <td>215.324188</td>\n",
              "      <td>58400300</td>\n",
              "    </tr>\n",
              "  </tbody>\n",
              "</table>\n",
              "</div>"
            ],
            "text/plain": [
              "        Date        Open        High  ...       Close   Adj Close    Volume\n",
              "0  8/28/2020  228.179993  230.639999  ...  228.910004  226.828613  26292900\n",
              "1  8/31/2020  227.000000  228.699997  ...  225.529999  223.479355  28774200\n",
              "2   9/1/2020  225.509995  227.449997  ...  227.270004  225.203552  25725500\n",
              "3   9/2/2020  227.970001  232.860001  ...  231.649994  229.543701  34080800\n",
              "4   9/3/2020  229.270004  229.309998  ...  217.300003  215.324188  58400300\n",
              "\n",
              "[5 rows x 7 columns]"
            ]
          },
          "metadata": {},
          "execution_count": 3
        }
      ]
    },
    {
      "cell_type": "code",
      "metadata": {
        "colab": {
          "base_uri": "https://localhost:8080/"
        },
        "id": "V5GfzMCkd45t",
        "outputId": "7c0a309f-9a47-4106-de57-8bc6d6bba12b"
      },
      "source": [
        "data.shape"
      ],
      "execution_count": 6,
      "outputs": [
        {
          "output_type": "execute_result",
          "data": {
            "text/plain": [
              "(252, 7)"
            ]
          },
          "metadata": {},
          "execution_count": 6
        }
      ]
    },
    {
      "cell_type": "code",
      "metadata": {
        "colab": {
          "base_uri": "https://localhost:8080/"
        },
        "id": "Ynl9E-UWds1r",
        "outputId": "cfcea475-f7b8-4b45-93e6-9cd7c58da27b"
      },
      "source": [
        "data.info()"
      ],
      "execution_count": 4,
      "outputs": [
        {
          "output_type": "stream",
          "text": [
            "<class 'pandas.core.frame.DataFrame'>\n",
            "RangeIndex: 252 entries, 0 to 251\n",
            "Data columns (total 7 columns):\n",
            " #   Column     Non-Null Count  Dtype  \n",
            "---  ------     --------------  -----  \n",
            " 0   Date       252 non-null    object \n",
            " 1   Open       252 non-null    float64\n",
            " 2   High       252 non-null    float64\n",
            " 3   Low        252 non-null    float64\n",
            " 4   Close      252 non-null    float64\n",
            " 5   Adj Close  252 non-null    float64\n",
            " 6   Volume     252 non-null    int64  \n",
            "dtypes: float64(5), int64(1), object(1)\n",
            "memory usage: 13.9+ KB\n"
          ],
          "name": "stdout"
        }
      ]
    },
    {
      "cell_type": "code",
      "metadata": {
        "colab": {
          "base_uri": "https://localhost:8080/"
        },
        "id": "R4cEeFukd0oZ",
        "outputId": "5b571139-3b5c-4909-ed42-531f01ec396d"
      },
      "source": [
        "#let us check whether our data has any null values\n",
        "data.isnull().sum()"
      ],
      "execution_count": 7,
      "outputs": [
        {
          "output_type": "execute_result",
          "data": {
            "text/plain": [
              "Date         0\n",
              "Open         0\n",
              "High         0\n",
              "Low          0\n",
              "Close        0\n",
              "Adj Close    0\n",
              "Volume       0\n",
              "dtype: int64"
            ]
          },
          "metadata": {},
          "execution_count": 7
        }
      ]
    },
    {
      "cell_type": "markdown",
      "metadata": {
        "id": "0GhDcmZteGRc"
      },
      "source": [
        "There is no nan values present in this data."
      ]
    },
    {
      "cell_type": "code",
      "metadata": {
        "colab": {
          "base_uri": "https://localhost:8080/",
          "height": 317
        },
        "id": "SzafVBYLeEHN",
        "outputId": "e0447583-84ff-4a00-88a2-d07119069a6d"
      },
      "source": [
        "plt.plot(data['Close'])\n",
        "plt.xlabel('Date')\n",
        "plt.ylabel('Close')\n",
        "plt.title(\"Microsoft Stock Prices\",fontsize=20)"
      ],
      "execution_count": 15,
      "outputs": [
        {
          "output_type": "execute_result",
          "data": {
            "text/plain": [
              "Text(0.5, 1.0, 'Microsoft Stock Prices')"
            ]
          },
          "metadata": {},
          "execution_count": 15
        },
        {
          "output_type": "display_data",
          "data": {
            "image/png": "[encoded data removed]",
            "text/plain": [
              "<Figure size 432x288 with 1 Axes>"
            ]
          },
          "metadata": {
            "needs_background": "light"
          }
        }
      ]
    },
    {
      "cell_type": "markdown",
      "metadata": {
        "id": "inckb58EelG6"
      },
      "source": [
        "Let us find if there is any correlation b/w our data."
      ]
    },
    {
      "cell_type": "code",
      "metadata": {
        "colab": {
          "base_uri": "https://localhost:8080/",
          "height": 286
        },
        "id": "O_lbfhNBeRiA",
        "outputId": "a21752f1-fb97-4c52-b7fb-c537af2dc143"
      },
      "source": [
        "sns.heatmap(data.corr(),annot=True)"
      ],
      "execution_count": 10,
      "outputs": [
        {
          "output_type": "execute_result",
          "data": {
            "text/plain": [
              "<matplotlib.axes._subplots.AxesSubplot at 0x7f183452b490>"
            ]
          },
          "metadata": {},
          "execution_count": 10
        },
        {
          "output_type": "display_data",
          "data": {
            "image/png": "[encoded data removed]",
            "text/plain": [
              "<Figure size 432x288 with 2 Axes>"
            ]
          },
          "metadata": {
            "needs_background": "light"
          }
        }
      ]
    },
    {
      "cell_type": "markdown",
      "metadata": {
        "id": "5evQ5Y9deqzm"
      },
      "source": [
        "We can see that all our data are closely correlated except volume."
      ]
    },
    {
      "cell_type": "markdown",
      "metadata": {
        "id": "Dnya4SRrgjXO"
      },
      "source": [
        "Let us split our data into dependent and independent features."
      ]
    },
    {
      "cell_type": "code",
      "metadata": {
        "id": "h44U9pSceam3"
      },
      "source": [
        "X=data[['Open','Low','High']]\n",
        "y=data['Close']"
      ],
      "execution_count": 16,
      "outputs": []
    },
    {
      "cell_type": "code",
      "metadata": {
        "id": "8mrj7sTlfE22"
      },
      "source": [
        "from sklearn.model_selection import train_test_split"
      ],
      "execution_count": 17,
      "outputs": []
    },
    {
      "cell_type": "code",
      "metadata": {
        "id": "4047od2JgBZF"
      },
      "source": [
        "X_train,X_test,y_train,y_test=train_test_split(X,y,test_size=0.33,random_state=0)"
      ],
      "execution_count": 18,
      "outputs": []
    },
    {
      "cell_type": "markdown",
      "metadata": {
        "id": "BnMP_m43gtDK"
      },
      "source": [
        "Let us train our model!!!!!"
      ]
    },
    {
      "cell_type": "markdown",
      "metadata": {
        "id": "fvHbJQWBg1cF"
      },
      "source": [
        "**Using SDG Regressor**"
      ]
    },
    {
      "cell_type": "code",
      "metadata": {
        "id": "aRAs65MFgMgh"
      },
      "source": [
        "from sklearn.linear_model import SGDRegressor"
      ],
      "execution_count": 19,
      "outputs": []
    },
    {
      "cell_type": "code",
      "metadata": {
        "id": "hnCXiJFLhEsy"
      },
      "source": [
        "sdg=SGDRegressor(max_iter=100,eta0=0.1)"
      ],
      "execution_count": 47,
      "outputs": []
    },
    {
      "cell_type": "code",
      "metadata": {
        "id": "TNhJK_PehGh4"
      },
      "source": [
        "model=sdg.fit(X_train,y_train)"
      ],
      "execution_count": 48,
      "outputs": []
    },
    {
      "cell_type": "code",
      "metadata": {
        "id": "a-HNkfbmhKbI"
      },
      "source": [
        "pred=model.predict(X_test)"
      ],
      "execution_count": 49,
      "outputs": []
    },
    {
      "cell_type": "markdown",
      "metadata": {
        "id": "k-Fr-f85hVC6"
      },
      "source": [
        "Our model has trained and predicted.... Now let us check the accuracy of our model prediction."
      ]
    },
    {
      "cell_type": "code",
      "metadata": {
        "id": "3uRrXelThPEQ"
      },
      "source": [
        "from sklearn.metrics import mean_absolute_error,mean_squared_error"
      ],
      "execution_count": 50,
      "outputs": []
    },
    {
      "cell_type": "code",
      "metadata": {
        "colab": {
          "base_uri": "https://localhost:8080/"
        },
        "id": "bFUOEbpmhmqT",
        "outputId": "4c20388f-82a7-4fcf-e034-cafb1e19d607"
      },
      "source": [
        "print('MAE: ',mean_absolute_error(y_test,pred))\n",
        "print('MSE: ',mean_squared_error(y_test,pred))\n",
        "print('RMSE: ',np.sqrt(mean_squared_error(y_test,pred)))\n"
      ],
      "execution_count": 51,
      "outputs": [
        {
          "output_type": "stream",
          "text": [
            "MAE:  119624790715525.05\n",
            "MSE:  1.447258307239146e+28\n",
            "RMSE:  120302049327480.12\n"
          ],
          "name": "stdout"
        }
      ]
    },
    {
      "cell_type": "code",
      "metadata": {
        "colab": {
          "base_uri": "https://localhost:8080/",
          "height": 371
        },
        "id": "YJxtn0byiByq",
        "outputId": "a4764181-d2b7-4ce9-c250-f4afa3a47770"
      },
      "source": [
        "sns.scatterplot(y_test,pred)\n",
        "plt.xlabel('Actual o/p')\n",
        "plt.ylabel('Predicted o/p')\n",
        "plt.title('Actual vs Predicted',fontsize=20)"
      ],
      "execution_count": 52,
      "outputs": [
        {
          "output_type": "stream",
          "text": [
            "/usr/local/lib/python3.7/dist-packages/seaborn/_decorators.py:43: FutureWarning: Pass the following variables as keyword args: x, y. From version 0.12, the only valid positional argument will be `data`, and passing other arguments without an explicit keyword will result in an error or misinterpretation.\n",
            "  FutureWarning\n"
          ],
          "name": "stderr"
        },
        {
          "output_type": "execute_result",
          "data": {
            "text/plain": [
              "Text(0.5, 1.0, 'Actual vs Predicted')"
            ]
          },
          "metadata": {},
          "execution_count": 52
        },
        {
          "output_type": "display_data",
          "data": {
            "image/png": "[encoded data removed]",
            "text/plain": [
              "<Figure size 432x288 with 1 Axes>"
            ]
          },
          "metadata": {
            "needs_background": "light"
          }
        }
      ]
    },
    {
      "cell_type": "markdown",
      "metadata": {
        "id": "bfKha21EjGF4"
      },
      "source": [
        "From this graph we could see that our model has preformed well and has also predicted almost equal to the Close value."
      ]
    },
    {
      "cell_type": "markdown",
      "metadata": {
        "id": "79CZX6SUj0sN"
      },
      "source": [
        "Let us also try this model using SVM..."
      ]
    },
    {
      "cell_type": "code",
      "metadata": {
        "id": "EaqLraVeiMQB"
      },
      "source": [
        "from sklearn.svm import LinearSVR"
      ],
      "execution_count": 34,
      "outputs": []
    },
    {
      "cell_type": "code",
      "metadata": {
        "id": "Ii2NGSQ6kopj"
      },
      "source": [
        "svm=LinearSVR(epsilon=1.5)"
      ],
      "execution_count": 35,
      "outputs": []
    },
    {
      "cell_type": "code",
      "metadata": {
        "colab": {
          "base_uri": "https://localhost:8080/"
        },
        "id": "gNXhrREBkyhC",
        "outputId": "e212257f-9d63-46ef-d5e8-c5d49c9f3a10"
      },
      "source": [
        "model_2=svm.fit(X_train,y_train)"
      ],
      "execution_count": 36,
      "outputs": [
        {
          "output_type": "stream",
          "text": [
            "/usr/local/lib/python3.7/dist-packages/sklearn/svm/_base.py:947: ConvergenceWarning: Liblinear failed to converge, increase the number of iterations.\n",
            "  \"the number of iterations.\", ConvergenceWarning)\n"
          ],
          "name": "stderr"
        }
      ]
    },
    {
      "cell_type": "code",
      "metadata": {
        "id": "AptyER25k3lT"
      },
      "source": [
        "pred_2=model_2.predict(X_test)"
      ],
      "execution_count": 37,
      "outputs": []
    },
    {
      "cell_type": "code",
      "metadata": {
        "colab": {
          "base_uri": "https://localhost:8080/"
        },
        "id": "kF40FqQhlADQ",
        "outputId": "1e7bdee4-a3c3-4a42-9bab-051b3d1664f5"
      },
      "source": [
        "print('MAE: ',mean_absolute_error(y_test,pred_2))\n",
        "print('MSE: ',mean_squared_error(y_test,pred_2))\n",
        "print('RMSE: ',np.sqrt(mean_squared_error(y_test,pred_2)))"
      ],
      "execution_count": 39,
      "outputs": [
        {
          "output_type": "stream",
          "text": [
            "MAE:  1.2710136703223522\n",
            "MSE:  2.391954827597678\n",
            "RMSE:  1.5465945905755905\n"
          ],
          "name": "stdout"
        }
      ]
    },
    {
      "cell_type": "code",
      "metadata": {
        "colab": {
          "base_uri": "https://localhost:8080/",
          "height": 371
        },
        "id": "0jfgh_XklEgC",
        "outputId": "cf97476a-e2cd-48e3-f872-d19dbce7fffe"
      },
      "source": [
        "sns.scatterplot(y_test,pred_2)\n",
        "plt.xlabel('Actual o/p')\n",
        "plt.ylabel('Predicted o/p')\n",
        "plt.title('Actual vs Predicted',fontsize=20)"
      ],
      "execution_count": 40,
      "outputs": [
        {
          "output_type": "stream",
          "text": [
            "/usr/local/lib/python3.7/dist-packages/seaborn/_decorators.py:43: FutureWarning: Pass the following variables as keyword args: x, y. From version 0.12, the only valid positional argument will be `data`, and passing other arguments without an explicit keyword will result in an error or misinterpretation.\n",
            "  FutureWarning\n"
          ],
          "name": "stderr"
        },
        {
          "output_type": "execute_result",
          "data": {
            "text/plain": [
              "Text(0.5, 1.0, 'Actual vs Predicted')"
            ]
          },
          "metadata": {},
          "execution_count": 40
        },
        {
          "output_type": "display_data",
          "data": {
            "image/png": "[encoded data removed]",
            "text/plain": [
              "<Figure size 432x288 with 1 Axes>"
            ]
          },
          "metadata": {
            "needs_background": "light"
          }
        }
      ]
    },
    {
      "cell_type": "markdown",
      "metadata": {
        "id": "JHlzkXG8lyzI"
      },
      "source": [
        "It has also performed well.....\n",
        "\n"
      ]
    },
    {
      "cell_type": "code",
      "metadata": {
        "colab": {
          "base_uri": "https://localhost:8080/",
          "height": 371
        },
        "id": "wFJVdUawlO9C",
        "outputId": "a0c9c028-8c41-4dda-bd21-9f0371e4411c"
      },
      "source": [
        "sns.scatterplot(pred,pred_2)\n",
        "plt.xlabel('Prediction-1')\n",
        "plt.ylabel('Prediction-2')\n",
        "plt.title('Prediction-1 vs Prediction-2',fontsize=20,loc='center')"
      ],
      "execution_count": 65,
      "outputs": [
        {
          "output_type": "stream",
          "text": [
            "/usr/local/lib/python3.7/dist-packages/seaborn/_decorators.py:43: FutureWarning: Pass the following variables as keyword args: x, y. From version 0.12, the only valid positional argument will be `data`, and passing other arguments without an explicit keyword will result in an error or misinterpretation.\n",
            "  FutureWarning\n"
          ],
          "name": "stderr"
        },
        {
          "output_type": "execute_result",
          "data": {
            "text/plain": [
              "Text(0.5, 1.0, 'Prediction-1 vs Prediction-2')"
            ]
          },
          "metadata": {},
          "execution_count": 65
        },
        {
          "output_type": "display_data",
          "data": {
            "image/png": "[encoded data removed]",
            "text/plain": [
              "<Figure size 432x288 with 1 Axes>"
            ]
          },
          "metadata": {
            "needs_background": "light"
          }
        }
      ]
    },
    {
      "cell_type": "markdown",
      "metadata": {
        "id": "n3DYowS4oLnP"
      },
      "source": [
        "From this we could see the inference of both the models and its prediction."
      ]
    },
    {
      "cell_type": "markdown",
      "metadata": {
        "id": "MaRnurxwmiaM"
      },
      "source": [
        "Using both the techniques our model has predicted well and loss has minimized to the maximum."
      ]
    },
    {
      "cell_type": "code",
      "metadata": {
        "id": "TMb90XIXn5Ws"
      },
      "source": [
        ""
      ],
      "execution_count": null,
      "outputs": []
    }
  ]
}